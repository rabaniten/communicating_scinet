{
 "cells": [
  {
   "cell_type": "code",
   "execution_count": null,
   "metadata": {},
   "outputs": [],
   "source": [
    "import numpy as np\n",
    "import matplotlib.pyplot as plt\n",
    "from mpl_toolkits.mplot3d import Axes3D\n",
    "from matplotlib import cm\n",
    "from matplotlib import gridspec\n",
    "import matplotlib.pyplot as plt\n",
    "import matplotlib.tri as mtri\n",
    "from tqdm import tqdm_notebook\n",
    "import odr\n",
    "import odr.ed_em_golf as ed\n",
    "from odr.model_operational import OperationalNetwork\n",
    "from odr.data_handler import Dataset"
   ]
  },
  {
   "cell_type": "markdown",
   "metadata": {},
   "source": [
    "## Generate or load data"
   ]
  },
  {
   "cell_type": "code",
   "execution_count": null,
   "metadata": {},
   "outputs": [],
   "source": [
    "data = ed.create_dataset(int(1e5), multi_enc=True, correlated=True, noise_level=0.1)\n",
    "data.save('multi_enc_noisy_corr_100k')"
   ]
  },
  {
   "cell_type": "code",
   "execution_count": null,
   "metadata": {},
   "outputs": [],
   "source": [
    "data = Dataset.load('multi_enc_noisy_corr_100k')"
   ]
  },
  {
   "cell_type": "code",
   "execution_count": null,
   "metadata": {},
   "outputs": [],
   "source": [
    "td, vd = data.train_val_separation(0.05)"
   ]
  },
  {
   "cell_type": "markdown",
   "metadata": {},
   "source": [
    "## Train model"
   ]
  },
  {
   "cell_type": "code",
   "execution_count": null,
   "metadata": {},
   "outputs": [],
   "source": [
    "gamma = 1e-3\n",
    "reg_loss = 1e-7\n",
    "for i in range(100):\n",
    "    model = OperationalNetwork(encoder_num=2, decoder_num=4, input_sizes=[20, 20], latent_sizes=[2, 2], \n",
    "                question_sizes=[1, 1, 1, 1], answer_sizes=[1, 1, 1, 1],\n",
    "                encoder_num_units=[200, 200], name='multi_enc_corr_{}'.format(i))\n",
    "    # Pretraining\n",
    "    model.train(100, 256, 1e-3, td, vd, test_step=10, reg_loss_factor=reg_loss, gamma=gamma, nloc_factor=5., pretrain=True, progress_bar=tqdm_notebook)\n",
    "    if model.run(vd, model.cost_nloc) > 0.1:\n",
    "        continue\n",
    "    model.train(400, 256, 1e-3, td, vd, test_step=10, reg_loss_factor=reg_loss, gamma=gamma, nloc_factor=5., pretrain=True, progress_bar=tqdm_notebook)\n",
    "    model.save(model.name)\n",
    "    \n",
    "    # Train with unconstrained selection neurons\n",
    "    model.train(4500, 256, 1e-3, td, vd, test_step=10, reg_loss_factor=reg_loss, gamma=gamma, progress_bar=tqdm_notebook)\n",
    "    model.save(model.name)\n",
    "    break"
   ]
  },
  {
   "cell_type": "markdown",
   "metadata": {},
   "source": [
    "## Load pre-trained model and plot latent layer"
   ]
  },
  {
   "cell_type": "code",
   "execution_count": null,
   "metadata": {},
   "outputs": [],
   "source": [
    "model = OperationalNetwork.from_saved('multi_enc_corr')"
   ]
  },
  {
   "cell_type": "code",
   "execution_count": null,
   "metadata": {},
   "outputs": [],
   "source": [
    "def get_triangles(x_data, y_data, threshold=5.):\n",
    "    tri = mtri.Triangulation(x_data, y_data)\n",
    "    points = np.dstack([x_data[tri.triangles], y_data[tri.triangles]])\n",
    "    edge_length = np.empty(points.shape[0])\n",
    "    for i in range(len(edge_length)):\n",
    "        p = points[i]\n",
    "        edge_length[i] = np.linalg.norm(p[0] - p[1]) + np.linalg.norm(p[0] - p[2]) + np.linalg.norm(p[1] - p[2])\n",
    "    mask = np.where(edge_length > threshold, True, False)\n",
    "    tri.set_mask(mask)\n",
    "    return tri\n",
    "\n",
    "\n",
    "def plot_multi_enc(model, mass_data, charge_data):\n",
    "    latent_mass = model.run(mass_data, model.full_latent)\n",
    "    latent_charge = model.run(charge_data, model.full_latent)\n",
    "    z_lim_mass = [np.min(latent_mass), np.max(latent_mass)]\n",
    "    z_lim_charge = [np.min(latent_charge[:, [0, 3]]), np.max(latent_charge[:, [0, 3]])]\n",
    "    \n",
    "    fig = plt.figure(figsize=(12, 7))\n",
    "    gs = gridspec.GridSpec(2, 4)\n",
    "    ax_mass = []\n",
    "    ax_charge = []\n",
    "    ax_sel = []\n",
    "    for latent_index in range(4):\n",
    "        ax_mass.append(fig.add_subplot(gs[latent_index], projection='3d'))\n",
    "        ax_charge.append(fig.add_subplot(gs[latent_index + 4], projection='3d'))\n",
    "            \n",
    "        # Plot dependent on mass, fixed charge   \n",
    "        tri = get_triangles(mass_data.hidden_states[:, 0], mass_data.hidden_states[:, 1])\n",
    "        ax_mass[latent_index].plot_trisurf(tri, latent_mass[:, latent_index], cmap=cm.inferno, vmin=z_lim_mass[0], vmax=z_lim_mass[1])\n",
    "        ax_mass[latent_index].set_xlabel(r'$m_1$')\n",
    "        ax_mass[latent_index].set_ylabel(r'$m_2$')\n",
    "        ax_mass[latent_index].set_zlim(z_lim_mass)\n",
    "        ax_mass[latent_index].azim = -45\n",
    "        ax_mass[latent_index].set_xticks([0, 5, 10])\n",
    "        ax_mass[latent_index].set_yticks([0, 5, 10])\n",
    "        \n",
    "        # Plot dependent on charge, fixed mass\n",
    "        tri = get_triangles(charge_data.hidden_states[:, 2], charge_data.hidden_states[:, 3], threshold=1.)\n",
    "        if latent_index==1:\n",
    "            zmin = 0.5\n",
    "            zmax = zmin + z_lim_charge[1] - z_lim_charge[0]\n",
    "        elif latent_index==2:\n",
    "            zmin = -0.7\n",
    "            zmax = zmin + z_lim_charge[1] - z_lim_charge[0]\n",
    "        else:\n",
    "            zmin = z_lim_charge[0]\n",
    "            zmax = z_lim_charge[1]\n",
    "        ax_charge[latent_index].plot_trisurf(tri, latent_charge[:, latent_index], \n",
    "                                             cmap=cm.inferno, vmin=z_lim_charge[0], vmax=z_lim_charge[1])\n",
    "        ax_charge[latent_index].set_xlabel(r'$q_1$')\n",
    "        ax_charge[latent_index].set_ylabel(r'$q_2$')\n",
    "        ax_charge[latent_index].set_zlim([zmin, zmax])\n",
    "        ax_charge[latent_index].set_xticks([-1, 0, 1])\n",
    "        ax_charge[latent_index].set_yticks([-1, 0, 1])\n",
    "        \n",
    "    fig.tight_layout()\n",
    "    return fig"
   ]
  },
  {
   "cell_type": "code",
   "execution_count": null,
   "metadata": {},
   "outputs": [],
   "source": [
    "%matplotlib tk\n",
    "mass_data = ed.create_dataset(1000, multi_enc=True, charge_range=[.5, .5], mass_range=[1, 10])\n",
    "charge_data = ed.create_dataset(1000, multi_enc=True, mass_range=[1.5, 1.5])\n",
    "fig = plot_multi_enc(model, mass_data, charge_data)"
   ]
  },
  {
   "cell_type": "code",
   "execution_count": null,
   "metadata": {},
   "outputs": [],
   "source": []
  }
 ],
 "metadata": {
  "kernelspec": {
   "display_name": "Python 3",
   "language": "python",
   "name": "python3"
  },
  "language_info": {
   "codemirror_mode": {
    "name": "ipython",
    "version": 3
   },
   "file_extension": ".py",
   "mimetype": "text/x-python",
   "name": "python",
   "nbconvert_exporter": "python",
   "pygments_lexer": "ipython3",
   "version": "3.6.7"
  }
 },
 "nbformat": 4,
 "nbformat_minor": 4
}
